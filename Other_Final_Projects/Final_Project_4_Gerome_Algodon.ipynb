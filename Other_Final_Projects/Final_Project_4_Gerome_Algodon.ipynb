{
 "cells": [
  {
   "cell_type": "markdown",
   "metadata": {},
   "source": [
    "# ASTR 119 Final Project Option 4: Monte Carlo Integration"
   ]
  },
  {
   "cell_type": "code",
   "execution_count": null,
   "metadata": {},
   "outputs": [],
   "source": [
    "import numpy as np\n",
    "import matplotlib.pyplot as plt\n",
    "%matplotlib inline"
   ]
  },
  {
   "cell_type": "markdown",
   "metadata": {},
   "source": [
    "# Define Function"
   ]
  },
  {
   "cell_type": "code",
   "execution_count": null,
   "metadata": {},
   "outputs": [],
   "source": [
    "def f(x):\n",
    "    return np.cos(x)"
   ]
  },
  {
   "cell_type": "markdown",
   "metadata": {},
   "source": [
    "# Figure out how to make random points"
   ]
  },
  {
   "cell_type": "code",
   "execution_count": null,
   "metadata": {},
   "outputs": [],
   "source": [
    "npoints = 10000\n",
    "a = 0\n",
    "b = 1.75\n",
    "\n",
    "x = np.random.uniform(a,b,npoints)\n",
    "\n",
    "c,d = np.min(f(x)),np.max(f(x))\n",
    "y = np.random.uniform(c,d,npoints)\n",
    "\n",
    "plt.plot(x,y,'.',c='#4B0082')\n",
    "plt.show()\n"
   ]
  },
  {
   "cell_type": "markdown",
   "metadata": {},
   "source": [
    "# Figure out how to see if a point is above or below a graph"
   ]
  },
  {
   "cell_type": "code",
   "execution_count": null,
   "metadata": {},
   "outputs": [],
   "source": [
    "def above_or_below(f,x,y):\n",
    "    # f = function, x,y = point that we are checking\n",
    "    # output: '#87ceeb' (blue) = below, '#4B0082' (purple) = above\n",
    "    if y<=f(x):\n",
    "        return '#87ceeb'\n",
    "    if y>f(x):\n",
    "        return '#4B0082'"
   ]
  },
  {
   "cell_type": "markdown",
   "metadata": {},
   "source": [
    "# See if the above two work together"
   ]
  },
  {
   "cell_type": "code",
   "execution_count": null,
   "metadata": {},
   "outputs": [],
   "source": [
    "npoints = 10000\n",
    "a = 0\n",
    "b = 1.75\n",
    "\n",
    "x = np.random.uniform(a,b,npoints)\n",
    "\n",
    "c,d = np.min(f(x)),np.max(f(x))\n",
    "y = np.random.uniform(c,d,npoints)\n",
    "\n",
    "above = y>f(x)\n",
    "below = y<=f(x)\n",
    "\n",
    "plt.plot(x[above],y[above],'.',c='#4B0082',label='above')\n",
    "plt.plot(x[below],y[below],'.',c='#87ceeb',label='below')\n",
    "plt.plot(np.linspace(a,b,1000),f(np.linspace(a,b,1000)),c='k')\n",
    "plt.legend()\n",
    "plt.show()"
   ]
  },
  {
   "cell_type": "markdown",
   "metadata": {},
   "source": [
    "# Final product"
   ]
  },
  {
   "cell_type": "code",
   "execution_count": null,
   "metadata": {},
   "outputs": [],
   "source": [
    "def monte_carlo_integration(f,a,b,npoints,plot=True):\n",
    "    # f = function to integrate, a,b = x_range to integrate, npoints = number of points\n",
    "    \n",
    "    x = np.random.uniform(a,b,npoints)\n",
    "\n",
    "    c,d = np.min(f(x)),np.max(f(x))\n",
    "    y = np.random.uniform(c,d,npoints)\n",
    "    \n",
    "    below_pos = (0<y)&(y<f(x))&(f(x)>=0)\n",
    "    below_neg = (0>y)&(y>f(x))&(f(x)<=0)\n",
    "    below = below_pos|below_neg\n",
    "    above = np.invert(below)\n",
    "    \n",
    "    ans = (below_pos.sum()/npoints)*(d-c)*(b-a)-(below_neg.sum()/npoints)*(d-c)*(b-a)\n",
    "    \n",
    "    if plot:\n",
    "        plt.figure(figsize=(10,10))\n",
    "        plt.plot(x[above],y[above],'.',c='#4B0082',label='above')\n",
    "        plt.plot(x[below],y[below],'.',c='#87ceeb',label='below')\n",
    "        plt.plot(np.linspace(a,b,1000),f(np.linspace(a,b,1000)),c='k',label='f(x)')\n",
    "        plt.legend(title=r'$\\int_{%.f }^{%.2f } f(x) dx=%f$'%(a,b,ans))\n",
    "        plt.show()\n",
    "    return ans"
   ]
  },
  {
   "cell_type": "code",
   "execution_count": null,
   "metadata": {},
   "outputs": [],
   "source": [
    "def test(x):\n",
    "    return x**2-4\n",
    "monte_carlo_integration(test,0,2,10000)"
   ]
  },
  {
   "cell_type": "code",
   "execution_count": null,
   "metadata": {},
   "outputs": [],
   "source": [
    "monte_carlo_integration(f,0,10,1000)"
   ]
  },
  {
   "cell_type": "markdown",
   "metadata": {},
   "source": [
    "# I did not go further with this because I noticed how inaccuate my answers got. The accuracy wildy changed every time I re-ran the code so I wanted to spend more time delving into that but I got distracted by my other classes."
   ]
  },
  {
   "cell_type": "code",
   "execution_count": null,
   "metadata": {},
   "outputs": [],
   "source": []
  }
 ],
 "metadata": {
  "kernelspec": {
   "display_name": "Python 3",
   "language": "python",
   "name": "python3"
  },
  "language_info": {
   "codemirror_mode": {
    "name": "ipython",
    "version": 3
   },
   "file_extension": ".py",
   "mimetype": "text/x-python",
   "name": "python",
   "nbconvert_exporter": "python",
   "pygments_lexer": "ipython3",
   "version": "3.5.6"
  }
 },
 "nbformat": 4,
 "nbformat_minor": 2
}
