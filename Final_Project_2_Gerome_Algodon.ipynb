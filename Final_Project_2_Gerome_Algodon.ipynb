{
 "cells": [
  {
   "cell_type": "markdown",
   "metadata": {},
   "source": [
    "# ASTR 119 Final Project Option 2: Logistic Maps"
   ]
  },
  {
   "cell_type": "code",
   "execution_count": null,
   "metadata": {},
   "outputs": [],
   "source": [
    "import numpy as np\n",
    "import matplotlib.pyplot as plt\n",
    "%matplotlib inline"
   ]
  },
  {
   "cell_type": "markdown",
   "metadata": {},
   "source": [
    "# How population depends on previous population    $P_{n+1}=P_n (a-bP_n)$\n",
    "# Substitute $P_n = \\frac{a}{b}x_n$ and $r = \\frac{a}{4}$ to get: $x_{n+1}=4rx_n(1-x_n)$"
   ]
  },
  {
   "cell_type": "code",
   "execution_count": null,
   "metadata": {},
   "outputs": [],
   "source": [
    "def compute_logistic_map(r,x0,N):\n",
    "    # r,x0 = initial values, N = Number of steps\n",
    "    # 0 <= r,x0 <= 1\n",
    "    N = 100                             # n goes from 0 to N\n",
    "    x = np.zeros(N)\n",
    "    x[0] = x0\n",
    "    for n in range(N-1):\n",
    "        x[n+1] = 4*r*x[n]*(1-x[n])\n",
    "    return x"
   ]
  },
  {
   "cell_type": "code",
   "execution_count": null,
   "metadata": {},
   "outputs": [],
   "source": [
    "# initial conditions to test\n",
    "r=0.7\n",
    "x0 = 0.65\n",
    "N = 100\n",
    "x = compute_logistic_map(r,x0,N)\n",
    "\n",
    "# graph n vs x_n\n",
    "plt.plot(np.arange(N),x,'.')\n",
    "plt.xlabel('n')\n",
    "plt.ylabel(r'$x_n$')\n",
    "plt.show()"
   ]
  },
  {
   "cell_type": "markdown",
   "metadata": {},
   "source": [
    "# Define the Lyapunov exponent as: $\\lambda = \\frac{1}{n}\\sum_{i=0}^{n-1} ln\\mid 4r(1-2x_i) \\mid$\n",
    "# where if $\\lambda<0$ : convergence\n",
    "# and if $\\lambda>0$ : divergence (chaos)"
   ]
  },
  {
   "cell_type": "code",
   "execution_count": null,
   "metadata": {},
   "outputs": [],
   "source": [
    "def find_lyapunov_exp(r,x):\n",
    "    # r = constant, x = array N long of x values according to recursion relation\n",
    "    lyapunov_exp = 0.0   # initialize lambda\n",
    "    for xi in x:\n",
    "        lyapunov_exp += np.log(np.fabs(4*r*(1-2*xi)))\n",
    "    lyapunov_exp *= 1/N\n",
    "    return lyapunov_exp\n",
    "    "
   ]
  },
  {
   "cell_type": "code",
   "execution_count": null,
   "metadata": {},
   "outputs": [],
   "source": [
    "# initial conditions to test\n",
    "r=0.7\n",
    "x0 = 0.65\n",
    "N = 100\n",
    "x = compute_logistic_map(r,x0,N)\n",
    "\n",
    "print('Lyapunov exponent =',find_lyapunov_exp(r,x))"
   ]
  },
  {
   "cell_type": "markdown",
   "metadata": {},
   "source": [
    "# Define wrapper to find logistic map of range of r values"
   ]
  },
  {
   "cell_type": "code",
   "execution_count": null,
   "metadata": {},
   "outputs": [],
   "source": [
    "def range_logistic_map(r_range,x0,N):\n",
    "    x = np.zeros((len(r_range),N))\n",
    "    lyapunov_exp = np.zeros(len(r_range))\n",
    "    for i in range(len(r_range)):\n",
    "        x[i] = compute_logistic_map(r_range[i],x0,N)\n",
    "        lyapunov_exp[i] = find_lyapunov_exp(r_range[i],x[i])\n",
    "    return x,lyapunov_exp"
   ]
  },
  {
   "cell_type": "code",
   "execution_count": null,
   "metadata": {},
   "outputs": [],
   "source": [
    "r_range = np.arange(0.7,1.0,0.01)\n",
    "x0 = 0.65\n",
    "N = 100\n",
    "\n",
    "x,lyapunov_exp = range_logistic_map(r_range,x0,N)"
   ]
  },
  {
   "cell_type": "code",
   "execution_count": null,
   "metadata": {},
   "outputs": [],
   "source": [
    "for i in range(len(r_range)):\n",
    "    a = 75\n",
    "    plt.plot(np.full(len(x[i]),r_range[i])[a:] , x[i][a:],'r.')\n",
    "plt.xlabel('r')\n",
    "plt.ylabel(r'$x_n$')\n",
    "plt.show()"
   ]
  },
  {
   "cell_type": "code",
   "execution_count": null,
   "metadata": {},
   "outputs": [],
   "source": [
    "# plt.figure(figsize=(20,10))\n",
    "plt.plot(r_range,lyapunov_exp,'b')\n",
    "plt.axhline(0,c='k')\n",
    "plt.xlabel('r')\n",
    "plt.ylabel(r'$\\lambda$')\n",
    "plt.xlim((r_range[0],r_range[-1]))\n",
    "plt.show()"
   ]
  },
  {
   "cell_type": "code",
   "execution_count": null,
   "metadata": {},
   "outputs": [],
   "source": [
    "print('{:>10}{:>10}'.format('r','lambda'))\n",
    "for i in range(len(r_range)):\n",
    "    print('{:10.2f}{:10.2f}'.format(r_range[i],lyapunov_exp[i]))"
   ]
  },
  {
   "cell_type": "markdown",
   "metadata": {},
   "source": [
    "# $\\lambda \\approx 0$ at r = 0.75, 0.86, 0.89, 0.96\n",
    "# recreate the above plots with dashed lines at each of the above r values"
   ]
  },
  {
   "cell_type": "code",
   "execution_count": null,
   "metadata": {},
   "outputs": [],
   "source": [
    "plt.figure(figsize=(10,7))\n",
    "for i in range(len(r_range)):\n",
    "    a = 40\n",
    "    plt.plot(np.full(len(x[i]),r_range[i])[a:] , x[i][a:],'r.')\n",
    "plt.xlabel('r')\n",
    "plt.ylabel(r'$x_n$')\n",
    "plt.axvline(0.75,c='k',ls='dashed')\n",
    "plt.axvline(0.86,c='k',ls='dashed')\n",
    "plt.axvline(0.89,c='k',ls='dashed')\n",
    "plt.axvline(0.96,c='k',ls='dashed')\n",
    "plt.plot(r_range,lyapunov_exp,'b')\n",
    "plt.plot(r_range,lyapunov_exp,'k.')\n",
    "plt.axhline(0,c='k')\n",
    "plt.show()"
   ]
  },
  {
   "cell_type": "code",
   "execution_count": null,
   "metadata": {},
   "outputs": [],
   "source": []
  },
  {
   "cell_type": "code",
   "execution_count": null,
   "metadata": {},
   "outputs": [],
   "source": []
  }
 ],
 "metadata": {
  "kernelspec": {
   "display_name": "Python 3",
   "language": "python",
   "name": "python3"
  },
  "language_info": {
   "codemirror_mode": {
    "name": "ipython",
    "version": 3
   },
   "file_extension": ".py",
   "mimetype": "text/x-python",
   "name": "python",
   "nbconvert_exporter": "python",
   "pygments_lexer": "ipython3",
   "version": "3.5.6"
  }
 },
 "nbformat": 4,
 "nbformat_minor": 2
}
